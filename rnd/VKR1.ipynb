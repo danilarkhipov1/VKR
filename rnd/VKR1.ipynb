{
 "cells": [
  {
   "cell_type": "code",
   "execution_count": 1,
   "id": "ad047286-6cc3-45e7-b0e3-0c711a8c5d9b",
   "metadata": {},
   "outputs": [],
   "source": [
    "import os\n",
    "import numpy as np\n",
    "import pandas as pd\n",
    "from tensorflow.keras.preprocessing import image\n",
    "from sklearn.preprocessing import MultiLabelBinarizer\n",
    "from collections import defaultdict\n",
    "import ast\n",
    "from sklearn.model_selection import train_test_split\n",
    "import albumentations as A\n",
    "import warnings\n",
    "from tensorflow.keras.preprocessing.image import ImageDataGenerator\n",
    "from collections import defaultdict\n",
    "\n",
    "\n",
    "warnings.filterwarnings('ignore')\n",
    "\n"
   ]
  },
  {
   "cell_type": "code",
   "execution_count": 2,
   "id": "c4d013b2-15fa-4ac6-9213-da224be492f6",
   "metadata": {},
   "outputs": [],
   "source": [
    "image_dir = r'C:\\Users\\User\\Documents\\Фотопримеры для модели ИИ\\\\'\n",
    "image_dir_new = r'C:\\Users\\User\\Documents\\датасет ВКР\\\\'\n",
    "\n",
    "folder_to_classes = {\n",
    "    'переполненная_площадка_КГО': [3],\n",
    "    'не_переполненая_площадка_КГО': [4],\n",
    "    'КГО_переполненое': [14],\n",
    "    'КГО_не_переполненный': [15]\n",
    "}\n",
    "\n",
    "images = []\n",
    "labels = []\n",
    "\n"
   ]
  },
  {
   "cell_type": "code",
   "execution_count": 3,
   "id": "f46ee912-34ff-4a64-90eb-b52d94120b2f",
   "metadata": {},
   "outputs": [],
   "source": [
    "df30=pd.read_csv(\"df30.csv\")\n"
   ]
  },
  {
   "cell_type": "code",
   "execution_count": 4,
   "id": "95fb6f6e-7fa2-4c94-9b9d-20a3165289fe",
   "metadata": {},
   "outputs": [],
   "source": [
    "class_counts = defaultdict(int) \n",
    "\n",
    "for _, row in df30.iterrows():\n",
    "    img_path = os.path.join(image_dir, row['file_name'])\n",
    "    \n",
    "    try:\n",
    "        img = image.load_img(img_path, target_size=(224, 224))  \n",
    "        img_array = image.img_to_array(img)\n",
    "\n",
    "        parsed_labels = ast.literal_eval(str(row['OUTPUT:classes']))\n",
    "        \n",
    "        if isinstance(parsed_labels, list):\n",
    "            if 16 in parsed_labels:  \n",
    "                continue\n",
    "            \n",
    "            labels.append(parsed_labels)\n",
    "            images.append(img_array)\n",
    "            \n",
    "            for label in parsed_labels:\n",
    "                class_counts[label] += 1\n",
    "\n",
    "    except (FileNotFoundError, OSError) as e:\n",
    "        continue\n"
   ]
  },
  {
   "cell_type": "code",
   "execution_count": 6,
   "id": "d7a13617-6fca-41bd-8a5d-16445375e21c",
   "metadata": {},
   "outputs": [
    {
     "name": "stdout",
     "output_type": "stream",
     "text": [
      "\n",
      "Распределение классов после первой папки (Фотопримеры для модели ИИ):\n",
      "Класс 1: 1837 изображений\n",
      "Класс 2: 7831 изображений\n",
      "Класс 3: 789 изображений\n",
      "Класс 4: 710 изображений\n",
      "Класс 5: 10240 изображений\n",
      "Класс 6: 635 изображений\n",
      "Класс 7: 3504 изображений\n",
      "Класс 8: 4267 изображений\n",
      "Класс 9: 1520 изображений\n",
      "Класс 10: 5954 изображений\n",
      "Класс 11: 1889 изображений\n",
      "Класс 13: 796 изображений\n",
      "Класс 14: 93 изображений\n",
      "Класс 15: 258 изображений\n"
     ]
    }
   ],
   "source": [
    "###  1.1 Проверка распределения классов после первой папки\n",
    "print(\"\\nРаспределение классов после первой папки (Фотопримеры для модели ИИ):\")\n",
    "for cls, count in sorted(class_counts.items()):\n",
    "    print(f\"Класс {cls}: {count} изображений\")\n",
    "\n"
   ]
  },
  {
   "cell_type": "code",
   "execution_count": 7,
   "id": "ac11f424-a12f-4066-a566-c29007cac2e8",
   "metadata": {},
   "outputs": [],
   "source": [
    "additional_folder_path = r'C:\\Users\\User\\Documents\\ещёконтейнеры\\\\12 класс'\n",
    "if os.path.exists(additional_folder_path):\n",
    "    for file_name in os.listdir(additional_folder_path):\n",
    "        img_path = os.path.join(additional_folder_path, file_name)\n",
    "        \n",
    "        try:\n",
    "            img = image.load_img(img_path, target_size=(224, 224))\n",
    "            img_array = image.img_to_array(img)\n",
    "            images.append(img_array)\n",
    "            labels.append([12])  # Явно указываем класс 12\n",
    "            \n",
    "            # Обновляем статистику\n",
    "            class_counts[12] += 1\n",
    "\n",
    "        except (FileNotFoundError, OSError) as e:\n",
    "            print(f\"Ошибка при обработке {img_path}: {e}\")\n",
    "            continue\n",
    "else:\n",
    "    print(f\"\\Папка с дополнительными контейнерами не найдена: {additional_folder_path}\")\n"
   ]
  },
  {
   "cell_type": "code",
   "execution_count": 8,
   "id": "3311f7d8-16b1-4c39-9b0b-d0f3b72db088",
   "metadata": {},
   "outputs": [],
   "source": [
    "additional_folder_path = r'C:\\Users\\User\\Documents\\ещёконтейнеры\\\\14 класс'\n",
    "if os.path.exists(additional_folder_path):\n",
    "    for file_name in os.listdir(additional_folder_path):\n",
    "        img_path = os.path.join(additional_folder_path, file_name)\n",
    "        \n",
    "        try:\n",
    "            img = image.load_img(img_path, target_size=(224, 224))\n",
    "            img_array = image.img_to_array(img)\n",
    "            images.append(img_array)\n",
    "            labels.append([12])  # Явно указываем класс 12\n",
    "            \n",
    "            # Обновляем статистику\n",
    "            class_counts[12] += 1\n",
    "\n",
    "        except (FileNotFoundError, OSError) as e:\n",
    "            print(f\"Ошибка при обработке {img_path}: {e}\")\n",
    "            continue\n",
    "else:\n",
    "    print(f\"\\Папка с дополнительными контейнерами не найдена: {additional_folder_path}\")\n"
   ]
  },
  {
   "cell_type": "code",
   "execution_count": 9,
   "id": "de6e7f0a-28a1-47ba-9f21-a68a4f3cfdb3",
   "metadata": {},
   "outputs": [],
   "source": [
    "for folder, class_labels in folder_to_classes.items():\n",
    "    folder_path = os.path.join(image_dir_new, folder)\n",
    "    \n",
    "    if not os.path.exists(folder_path):\n",
    "        print(f\"Папка не найдена: {folder_path}, пропускаем.\")\n",
    "        continue\n",
    "\n",
    "    for file_name in os.listdir(folder_path):\n",
    "        img_path = os.path.join(folder_path, file_name)\n",
    "        \n",
    "        try:\n",
    "            img = image.load_img(img_path, target_size=(224, 224))\n",
    "            img_array = image.img_to_array(img)\n",
    "            images.append(img_array)\n",
    "            labels.append(class_labels)  # Привязываем классы из названия папки\n",
    "            # Обновляем статистику классов\n",
    "            for label in class_labels:\n",
    "                class_counts[label] += 1\n",
    "\n",
    "        except (FileNotFoundError, OSError) as e:\n",
    "            print(f\"Ошибка при обработке {img_path}: {e}\")\n",
    "            continue\n"
   ]
  },
  {
   "cell_type": "code",
   "execution_count": 10,
   "id": "ddfd1d53-f1db-47f7-a914-796f1a52c73a",
   "metadata": {},
   "outputs": [
    {
     "name": "stdout",
     "output_type": "stream",
     "text": [
      "\n",
      "Распределение классов:\n",
      "Класс 1: 1837 изображений\n",
      "Класс 2: 7831 изображений\n",
      "Класс 3: 1050 изображений\n",
      "Класс 4: 896 изображений\n",
      "Класс 5: 10240 изображений\n",
      "Класс 6: 635 изображений\n",
      "Класс 7: 3504 изображений\n",
      "Класс 8: 4267 изображений\n",
      "Класс 9: 1520 изображений\n",
      "Класс 10: 5954 изображений\n",
      "Класс 11: 1889 изображений\n",
      "Класс 12: 273 изображений\n",
      "Класс 13: 796 изображений\n",
      "Класс 14: 275 изображений\n",
      "Класс 15: 2273 изображений\n"
     ]
    }
   ],
   "source": [
    "print(\"\\nРаспределение классов:\")\n",
    "for cls, count in sorted(class_counts.items()):\n",
    "    print(f\"Класс {cls}: {count} изображений\")\n"
   ]
  },
  {
   "cell_type": "code",
   "execution_count": 11,
   "id": "dae1df13-f22a-4748-a346-bba9c184f654",
   "metadata": {},
   "outputs": [],
   "source": [
    "images = np.array(images)\n",
    "labels = np.array(labels, dtype=object)\n",
    "\n"
   ]
  },
  {
   "cell_type": "code",
   "execution_count": 12,
   "id": "b10a6ff4-60f7-4d10-86f4-1ed966ac658a",
   "metadata": {},
   "outputs": [],
   "source": [
    "images = np.array(images) / 255.0  \n",
    "mlb = MultiLabelBinarizer()\n",
    "labels = mlb.fit_transform(labels)  \n"
   ]
  },
  {
   "cell_type": "code",
   "execution_count": 13,
   "id": "e1d358b8-cfc4-4433-9810-d4a8395a392d",
   "metadata": {},
   "outputs": [],
   "source": [
    "X_train, X_test, y_train, y_test = train_test_split(images, labels, test_size=0.3, random_state=42)\n"
   ]
  },
  {
   "cell_type": "code",
   "execution_count": 14,
   "id": "9e8e0deb-21b4-44bd-93af-9158e8ed0c03",
   "metadata": {},
   "outputs": [
    {
     "name": "stdout",
     "output_type": "stream",
     "text": [
      "Распределение в обучающей выборке:\n",
      "[1267 5465  732  623 7141  444 2444 2952 1068 4121 1331  205  560  193\n",
      " 1606]\n",
      "\n",
      "Распределение в тестовой выборке:\n",
      "[ 570 2366  318  273 3099  191 1060 1315  452 1833  558   68  236   82\n",
      "  667]\n"
     ]
    }
   ],
   "source": [
    "print(\"Распределение в обучающей выборке:\")\n",
    "print(np.sum(y_train, axis=0))\n",
    "print(\"\\nРаспределение в тестовой выборке:\")\n",
    "print(np.sum(y_test, axis=0))"
   ]
  },
  {
   "cell_type": "code",
   "execution_count": 15,
   "id": "41836cdc-afdd-46ee-82f7-37e54f7f44f2",
   "metadata": {},
   "outputs": [
    {
     "name": "stdout",
     "output_type": "stream",
     "text": [
      "Аугментация завершена. Новое количество изображений в трейне: 21786\n"
     ]
    }
   ],
   "source": [
    "from tensorflow.keras.preprocessing.image import ImageDataGenerator, array_to_img, img_to_array\n",
    "import numpy as np\n",
    "\n",
    "datagen = ImageDataGenerator(\n",
    "    rotation_range=25,\n",
    "    width_shift_range=0.2,\n",
    "    height_shift_range=0.2,\n",
    "    shear_range=0.15,\n",
    "    zoom_range=0.2,\n",
    "    horizontal_flip=True,\n",
    "    vertical_flip=False,\n",
    "    fill_mode='nearest'\n",
    ")\n",
    "\n",
    "augmented_images = []\n",
    "augmented_labels = []\n",
    "\n",
    "augment_per_image = 1  \n",
    "\n",
    "for i in range(len(X_train)):\n",
    "    img = X_train[i]\n",
    "    label = y_train[i]\n",
    "\n",
    "    img = img.reshape((1,) + img.shape)  \n",
    "\n",
    "    aug_iter = datagen.flow(img, batch_size=1)\n",
    "\n",
    "    for _ in range(augment_per_image):\n",
    "        aug_img = next(aug_iter)[0]  \n",
    "        augmented_images.append(aug_img)\n",
    "        augmented_labels.append(label)\n",
    "\n",
    "X_train = np.concatenate([X_train, np.array(augmented_images)])\n",
    "y_train = np.concatenate([y_train, np.array(augmented_labels)])\n",
    "\n",
    "print(f\"Аугментация завершена. Новое количество изображений в трейне: {len(X_train)}\")\n"
   ]
  },
  {
   "cell_type": "code",
   "execution_count": 17,
   "id": "325aba60-6eab-4a5f-a5eb-adbae49af186",
   "metadata": {},
   "outputs": [],
   "source": [
    "np.save('images_train.npy', X_train)\n",
    "np.save('images_test.npy', X_test)\n",
    "np.save('labels_train.npy', y_train)\n",
    "np.save('labels_test.npy', y_test)"
   ]
  },
  {
   "cell_type": "code",
   "execution_count": null,
   "id": "16f4a4ba-1ca6-4980-847f-7c26f6356468",
   "metadata": {},
   "outputs": [],
   "source": []
  },
  {
   "cell_type": "code",
   "execution_count": null,
   "id": "3e3956cf-9938-46dc-9d45-304cfb6b93a5",
   "metadata": {},
   "outputs": [],
   "source": []
  }
 ],
 "metadata": {
  "kernelspec": {
   "display_name": "Python 3 (ipykernel)",
   "language": "python",
   "name": "python3"
  },
  "language_info": {
   "codemirror_mode": {
    "name": "ipython",
    "version": 3
   },
   "file_extension": ".py",
   "mimetype": "text/x-python",
   "name": "python",
   "nbconvert_exporter": "python",
   "pygments_lexer": "ipython3",
   "version": "3.11.7"
  }
 },
 "nbformat": 4,
 "nbformat_minor": 5
}
